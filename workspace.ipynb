{
 "cells": [
  {
   "cell_type": "code",
   "execution_count": 3,
   "id": "c1e1a3b1",
   "metadata": {},
   "outputs": [
    {
     "data": {
      "text/plain": [
       "'visitorId=01990D1F7EAA0201A8003134DA79F075; GuestLocation=10025|40.800|-73.970|NY|US; sapphire=1; TealeafAkaSid=9lHswNzp29xb-lg5wQOb693TfMh4w0Km; fiatsCookie=DSI_3394|DSN_Upper%20West%20Side%2098th%20and%20Columbus|DSZ_10025; ci_pixmgr=other; adScriptData=NY; kampyle_userid=37cd-fcb1-a2bb-2588-734c-2aa5-0c28-911f; crl8.fpcuid=37306f6d-6e20-4805-bf95-3a020c0d70c0; 3YCzT93n=A3znNw2ZAQAAl6s2PBUxyBxNDfjjJIBO3i6UPE8yV27_opgtDpEHwPxYUojKARha-Bmucr_owH8AAEB3AAAAAA|1|1|9ec09d7a1eb6ede41b0921bc4583256df8a889fa; idToken=eyJhbGciOiJub25lIn0.eyJzdWIiOiIyMDE2ODU3NDE4MSIsImlzcyI6Ik1JNiIsImV4cCI6MTc1Njg3Nzg0OSwiaWF0IjoxNzU2ODYzNDQ5LCJhc3MiOiJNIiwic3V0IjoiUiIsImNsaSI6ImVjb20td2ViLTEuMC4wIiwicHJvIjp7ImZuIjoiTGlhbSIsImZudSI6IkxpYW0iLCJlbSI6ImxpYW1oYWRlQGdtYWlsLmNvbSIsInBoIjpmYWxzZSwibGVkIjpudWxsLCJsdHkiOmZhbHNlLCJzdCI6Ik5ZIiwic24iOm51bGx9fQ.; mid=20168574181; usprivacy=1NN-; stateprivacycontrols=N; UserLocation=38237|36.344021|-88.851654|TN|US; profileCreatedDate=2025-09-02T01:34:31.845Z; sapphire_audiences={%22base_membership%22:false%2C%22card_membership%22:false%2C%22paid_membership%22:false}; kampyleUserSession=1756863578022; kampyleUserSessionsCount=2; kampyleUserPercentile=87.10526719705875; kampyleSessionPageCounter=10; ffsession={%22sessionHash%22:%221272f8e892f3c61756861794223%22%2C%22prevPageName%22:%22shopping%20cart:%20view%22%2C%22prevPageType%22:%22shopping%20cart%22%2C%22prevPageUrl%22:%22https://www.target.com/cart%22%2C%22sessionHit%22:34%2C%22prevSearchTerm%22:%22Pokemon%22}'"
      ]
     },
     "execution_count": 3,
     "metadata": {},
     "output_type": "execute_result"
    }
   ],
   "source": [
    "file = \"statics/target_cookies.txt\"\n",
    "\n",
    "with open(file, 'r') as f:\n",
    "    cookie_string = f.read()\n",
    "cookie_string"
   ]
  },
  {
   "cell_type": "code",
   "execution_count": null,
   "id": "c85366b3",
   "metadata": {},
   "outputs": [
    {
     "data": {
      "text/plain": [
       "{'visitorId': '01990D1F7EAA0201A8003134DA79F075',\n",
       " 'GuestLocation': '10025|40.800|-73.970|NY|US',\n",
       " 'sapphire': '1',\n",
       " 'TealeafAkaSid': '9lHswNzp29xb-lg5wQOb693TfMh4w0Km',\n",
       " 'fiatsCookie': 'DSI_3394|DSN_Upper%20West%20Side%2098th%20and%20Columbus|DSZ_10025',\n",
       " 'ci_pixmgr': 'other',\n",
       " 'adScriptData': 'NY',\n",
       " 'kampyle_userid': '37cd-fcb1-a2bb-2588-734c-2aa5-0c28-911f',\n",
       " 'crl8.fpcuid': '37306f6d-6e20-4805-bf95-3a020c0d70c0',\n",
       " '3YCzT93n': 'A3znNw2ZAQAAl6s2PBUxyBxNDfjjJIBO3i6UPE8yV27_opgtDpEHwPxYUojKARha-Bmucr_owH8AAEB3AAAAAA|1|1|9ec09d7a1eb6ede41b0921bc4583256df8a889fa',\n",
       " 'idToken': 'eyJhbGciOiJub25lIn0.eyJzdWIiOiIyMDE2ODU3NDE4MSIsImlzcyI6Ik1JNiIsImV4cCI6MTc1Njg3Nzg0OSwiaWF0IjoxNzU2ODYzNDQ5LCJhc3MiOiJNIiwic3V0IjoiUiIsImNsaSI6ImVjb20td2ViLTEuMC4wIiwicHJvIjp7ImZuIjoiTGlhbSIsImZudSI6IkxpYW0iLCJlbSI6ImxpYW1oYWRlQGdtYWlsLmNvbSIsInBoIjpmYWxzZSwibGVkIjpudWxsLCJsdHkiOmZhbHNlLCJzdCI6Ik5ZIiwic24iOm51bGx9fQ.',\n",
       " 'mid': '20168574181',\n",
       " 'usprivacy': '1NN-',\n",
       " 'stateprivacycontrols': 'N',\n",
       " 'UserLocation': '38237|36.344021|-88.851654|TN|US',\n",
       " 'profileCreatedDate': '2025-09-02T01:34:31.845Z',\n",
       " 'sapphire_audiences': '{%22base_membership%22:false%2C%22card_membership%22:false%2C%22paid_membership%22:false}',\n",
       " 'kampyleUserSession': '1756863578022',\n",
       " 'kampyleUserSessionsCount': '2',\n",
       " 'kampyleUserPercentile': '87.10526719705875',\n",
       " 'kampyleSessionPageCounter': '10',\n",
       " 'ffsession': '{%22sessionHash%22:%221272f8e892f3c61756861794223%22%2C%22prevPageName%22:%22shopping%20cart:%20view%22%2C%22prevPageType%22:%22shopping%20cart%22%2C%22prevPageUrl%22:%22https://www.target.com/cart%22%2C%22sessionHit%22:34%2C%22prevSearchTerm%22:%22Pokemon%22}'}"
      ]
     },
     "execution_count": 7,
     "metadata": {},
     "output_type": "execute_result"
    }
   ],
   "source": [
    "def grab_cookies_from_txt(file: str) -> Dict[str, str]:\n",
    "    \"\"\"Reads a .txt file containing cookies in 'name=value; name2=value2' format and returns a dictionary of cookies.\"\"\"\n",
    "    with open(file, 'r') as f:\n",
    "        cookie_string = f.read()\n",
    "    \n",
    "    cookies = []\n",
    "\n",
    "    for cookie in cookie_string.split('; '):\n",
    "        name, value = cookie.split('=', 1)\n",
    "        cookies[name] = value\n",
    "    \n",
    "    return cookies\n"
   ]
  }
 ],
 "metadata": {
  "kernelspec": {
   "display_name": ".venv",
   "language": "python",
   "name": "python3"
  },
  "language_info": {
   "codemirror_mode": {
    "name": "ipython",
    "version": 3
   },
   "file_extension": ".py",
   "mimetype": "text/x-python",
   "name": "python",
   "nbconvert_exporter": "python",
   "pygments_lexer": "ipython3",
   "version": "3.11.8"
  }
 },
 "nbformat": 4,
 "nbformat_minor": 5
}
