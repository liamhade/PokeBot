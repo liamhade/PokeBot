{
 "cells": [
  {
   "cell_type": "code",
   "execution_count": 9,
   "id": "c1e1a3b1",
   "metadata": {},
   "outputs": [],
   "source": [
    "import requests"
   ]
  },
  {
   "cell_type": "code",
   "execution_count": 13,
   "id": "65286025",
   "metadata": {},
   "outputs": [
    {
     "data": {
      "text/plain": [
       "b'{\\n  \"errorCode\": \"T83072242\",\\n  \"errorKey\": \"_ERR_AUTH_DENIED\",\\n  \"errorMessage\": \"Error Code T83072242. Sorry, something went wrong. Please refresh your browser and try again.\",\\n  \"errorParameters\": \"\",\\n  \"errorRefresh\": \"false\"\\n}'"
      ]
     },
     "execution_count": 13,
     "metadata": {},
     "output_type": "execute_result"
    }
   ],
   "source": [
    "url = \"https://gsp.target.com/gsp/authentications/v1/credential_validations?client_id=ecom-web-1.0.0\"\n",
    "payload = payload = {\n",
    "    \"device_info\": {\n",
    "        \"adblock\": \"false\",\n",
    "        \"add_behavior\": \"unknown\",\n",
    "        \"available_resolution\": \"[1920,1040]\",\n",
    "        \"browser_name\": \"Unknown\",\n",
    "        \"browser_version\": \"Unknown\",\n",
    "        \"canvas\": \"b8e3824fa926bd1b270b9425f593fdd6\",\n",
    "        \"color_depth\": \"24\",\n",
    "        \"cpu_architecture\": \"Unknown\",\n",
    "        \"cpu_class\": \"unknown\",\n",
    "        \"device_memory\": \"8\",\n",
    "        \"device_model\": \"Unknown\",\n",
    "        \"device_type\": \"Unknown\",\n",
    "        \"device_vendor\": \"Unknown\",\n",
    "        \"do_not_track\": \"unknown\",\n",
    "        \"engine_name\": \"Unknown\",\n",
    "        \"engine_version\": \"Unknown\",\n",
    "        \"hardware_concurrency\": \"20\",\n",
    "        \"has_lied_browser\": \"false\",\n",
    "        \"has_lied_languages\": \"false\",\n",
    "        \"has_lied_os\": \"false\",\n",
    "        \"has_lied_resolution\": \"false\",\n",
    "        \"indexed_db\": \"1\",\n",
    "        \"js_fonts\": \"[\\\"Arial\\\",\\\"Arial Black\\\",\\\"Arial Narrow\\\",\\\"Book Antiqua\\\",\\\"Bookman Old Style\\\",\\\"Calibri\\\",\\\"Cambria\\\",\\\"Cambria Math\\\",\\\"Century\\\",\\\"Century Gothic\\\",\\\"Century Schoolbook\\\",\\\"Comic Sans MS\\\",\\\"Consolas\\\",\\\"Courier\\\",\\\"Courier New\\\",\\\"Georgia\\\",\\\"Helvetica\\\",\\\"Impact\\\",\\\"Lucida Bright\\\",\\\"Lucida Calligraphy\\\",\\\"Lucida Console\\\",\\\"Lucida Fax\\\",\\\"Lucida Handwriting\\\",\\\"Lucida Sans\\\",\\\"Lucida Sans Typewriter\\\",\\\"Lucida Sans Unicode\\\",\\\"Microsoft Sans Serif\\\",\\\"Monotype Corsiva\\\",\\\"MS Gothic\\\",\\\"MS PGothic\\\",\\\"MS Reference Sans Serif\\\",\\\"MS Sans Serif\\\",\\\"MS Serif\\\",\\\"Palatino Linotype\\\",\\\"Segoe Print\\\",\\\"Segoe Script\\\",\\\"Segoe UI\\\",\\\"Segoe UI Light\\\",\\\"Segoe UI Semibold\\\",\\\"Segoe UI Symbol\\\",\\\"Tahoma\\\",\\\"Times\\\",\\\"Times New Roman\\\",\\\"Trebuchet MS\\\",\\\"Verdana\\\",\\\"Wingdings\\\",\\\"Wingdings 2\\\",\\\"Wingdings 3\\\"]\",\n",
    "        \"language\": \"en-US\",\n",
    "        \"local_storage\": \"1\",\n",
    "        \"navigator_app_code_name\": \"Mozilla\",\n",
    "        \"navigator_app_name\": \"Netscape\",\n",
    "        \"navigator_app_version\": \"5.0 (Windows NT 10.0; Win64; x64) AppleWebKit/537.36 (KHTML, like Gecko) Chrome/139.0.0.0 Safari/537.36\",\n",
    "        \"navigator_cookies_enabled\": \"true\",\n",
    "        \"navigator_java_enabled\": \"false\",\n",
    "        \"navigator_languages\": \"[\\\"en-US\\\",\\\"en\\\"]\",\n",
    "        \"navigator_platform\": \"Win32\",\n",
    "        \"navigator_vendor\": \"Google Inc.\",\n",
    "        \"navigator_webdriver\": \"false\",\n",
    "        \"open_database\": \"unknown\",\n",
    "        \"os_name\": \"Unknown\",\n",
    "        \"os_version\": \"Unknown\",\n",
    "        \"pixel_ratio\": \"unknown\",\n",
    "        \"regular_plugins\": \"[\\\"PDF Viewer::Portable Document Format::application/pdf~pdf,text/pdf~pdf\\\",\\\"Chrome PDF Viewer::Portable Document Format::application/pdf~pdf,text/pdf~pdf\\\",\\\"Chromium PDF Viewer::Portable Document Format::application/pdf~pdf,text/pdf~pdf\\\",\\\"Microsoft Edge PDF Viewer::Portable Document Format::application/pdf~pdf,text/pdf~pdf\\\",\\\"WebKit built-in PDF::Portable Document Format::application/pdf~pdf,text/pdf~pdf\\\"]\",\n",
    "        \"resolution\": \"[1920,1080]\",\n",
    "        \"session_storage\": \"1\",\n",
    "        \"tealeaf_id\": \"9lHswNzp29xb-lg5wQOb693TfMh4w0Km\",\n",
    "        \"timezone_offset\": \"240\",\n",
    "        \"touch_support\": \"[0,false,false]\",\n",
    "        \"user_agent\": \"Mozilla/5.0 (Windows NT 10.0; Win64; x64) AppleWebKit/537.36 (KHTML, like Gecko) Chrome/139.0.0.0 Safari/537.36\",\n",
    "        \"visitor_id\": \"01990D1F7EAA0201A8003134DA79F075\",\n",
    "        \"webgl\": \"unknown\",\n",
    "        \"webgl_vendor\": \"unknown\"\n",
    "    },\n",
    "    \"keep_me_signed_in\": \"false\",\n",
    "    \"password\": \"target2025\",\n",
    "    \"username\": \"liamhade@gmail.com\"\n",
    "}\n",
    "\n",
    "requests.post(url, json=payload).content"
   ]
  },
  {
   "cell_type": "code",
   "execution_count": null,
   "id": "e6455a10",
   "metadata": {},
   "outputs": [],
   "source": []
  }
 ],
 "metadata": {
  "kernelspec": {
   "display_name": ".venv",
   "language": "python",
   "name": "python3"
  },
  "language_info": {
   "codemirror_mode": {
    "name": "ipython",
    "version": 3
   },
   "file_extension": ".py",
   "mimetype": "text/x-python",
   "name": "python",
   "nbconvert_exporter": "python",
   "pygments_lexer": "ipython3",
   "version": "3.11.8"
  }
 },
 "nbformat": 4,
 "nbformat_minor": 5
}
